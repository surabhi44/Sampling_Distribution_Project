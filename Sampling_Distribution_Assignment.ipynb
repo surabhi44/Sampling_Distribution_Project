{
  "nbformat": 4,
  "nbformat_minor": 0,
  "metadata": {
    "colab": {
      "name": "Sampling_Distribution_Assignment.ipynb",
      "provenance": [],
      "collapsed_sections": []
    },
    "kernelspec": {
      "name": "python3",
      "display_name": "Python 3"
    }
  },
  "cells": [
    {
      "cell_type": "markdown",
      "metadata": {
        "id": "0z19-jV801XK",
        "colab_type": "text"
      },
      "source": [
        "#**1. Calculation for P(Z<Z0) with Z0 as input for Z, t, Chi-Square and F Distributions**\n",
        "\n",
        "# **2. Finding Z0 such that P(Z<Z0)=alpha with alpha as input**"
      ]
    },
    {
      "cell_type": "markdown",
      "metadata": {
        "id": "ifuw3aQ58neJ",
        "colab_type": "text"
      },
      "source": [
        "## **Calculations for Z Distribution**"
      ]
    },
    {
      "cell_type": "markdown",
      "metadata": {
        "id": "eobdzRRkTO7e",
        "colab_type": "text"
      },
      "source": [
        "\n",
        "\n",
        "### **Part 1:** P(Z<Z0)\n",
        "\n",
        "\n"
      ]
    },
    {
      "cell_type": "markdown",
      "metadata": {
        "id": "ZWFcyzRMTR6H",
        "colab_type": "text"
      },
      "source": [
        "\n",
        "> **Method 1:** User gives input for\n",
        " 1. Value of random variable\n",
        " 2. Value of mean\n",
        " 3. Value of Standard Deviation\n",
        "\n"
      ]
    },
    {
      "cell_type": "code",
      "metadata": {
        "id": "p7rorJlOikiL",
        "colab_type": "code",
        "outputId": "a5ebe9ff-d660-4c15-bec1-a770fdaf6449",
        "colab": {
          "base_uri": "https://localhost:8080/",
          "height": 125
        }
      },
      "source": [
        "# Importing Library\n",
        "import scipy.stats as stats\n",
        "\n",
        "# Taking required Inputs\n",
        "X = float(input(\"Enter the Value of Random Variable \"))\n",
        "mean = float(input(\"Enter Mean \"))\n",
        "sd = float(input(\"Enter Std. Dev \"))\n",
        "\n",
        "# Calculating the Z-Score Z0\n",
        "Z0 = (X-mean)/sd\n",
        "print('Z Score = Z0 is {:.6f}'.format(Z0))\n",
        "\n",
        "# Calculating the probability P(Z<Z0)\n",
        "prob=stats.norm.cdf(Z0)\n",
        "print('Probability of Z<Z0 is {:.6f}'.format(prob))"
      ],
      "execution_count": 0,
      "outputs": [
        {
          "output_type": "stream",
          "text": [
            "Enter the Value of Random Variable 50\n",
            "Enter Mean 60\n",
            "Enter Std. Dev 15\n",
            "Z Score = Z0 is -0.666667\n",
            "Probability of Z<Z0 is 0.252493\n"
          ],
          "name": "stdout"
        }
      ]
    },
    {
      "cell_type": "markdown",
      "metadata": {
        "id": "tU6jBKirD_mz",
        "colab_type": "text"
      },
      "source": [
        "\n",
        "\n",
        "> **Method 2:** User gives Z-Score as input\n",
        "\n"
      ]
    },
    {
      "cell_type": "code",
      "metadata": {
        "id": "hbkSm-WjETCF",
        "colab_type": "code",
        "outputId": "80b427e7-04d1-4e76-b4a4-c7a757dc7951",
        "colab": {
          "base_uri": "https://localhost:8080/",
          "height": 52
        }
      },
      "source": [
        "# Importing library\n",
        "import scipy.stats as stats\n",
        "\n",
        "# Input Z-Score\n",
        "Z0 = float(input(\"Enter Z-Score \"))\n",
        "\n",
        "# Calculating the probability P(Z<Z0)\n",
        "prob=stats.norm.cdf(Z0)\n",
        "print('Probability of Z<Z0 is {:.6f}'.format(prob))"
      ],
      "execution_count": 0,
      "outputs": [
        {
          "output_type": "stream",
          "text": [
            "Enter Z-Score -0.67\n",
            "Probability of Z<Z0 is 0.251429\n"
          ],
          "name": "stdout"
        }
      ]
    },
    {
      "cell_type": "markdown",
      "metadata": {
        "id": "LpTO6PLSFGvS",
        "colab_type": "text"
      },
      "source": [
        "\n",
        "\n",
        "### **Part 2:** Finding Z-Score Z0 s.t. P(Z<Z0)= alpha where alpha is given by the user\n",
        "\n"
      ]
    },
    {
      "cell_type": "code",
      "metadata": {
        "id": "FJOF-1g9l6ln",
        "colab_type": "code",
        "outputId": "41d5ad93-4d3d-4285-f458-1189f81e5d1b",
        "colab": {
          "base_uri": "https://localhost:8080/",
          "height": 52
        }
      },
      "source": [
        "# importing library\n",
        "import scipy.stats as stats\n",
        "\n",
        "# Input alpha value\n",
        "alpha = float(input(\"Enter alpha \"))\n",
        "\n",
        "# Calculating Z-Score Z0\n",
        "Z0 = stats.norm.ppf(alpha)\n",
        "print('Z-Score is Z0 = {:.6f}'.format(Z0))"
      ],
      "execution_count": 0,
      "outputs": [
        {
          "output_type": "stream",
          "text": [
            "Enter alpha 0.2514\n",
            "Z-Score is Z0 = -0.670091\n"
          ],
          "name": "stdout"
        }
      ]
    },
    {
      "cell_type": "markdown",
      "metadata": {
        "id": "ybX74CPcspi1",
        "colab_type": "text"
      },
      "source": [
        "## **Calculations for T Distributuion**"
      ]
    },
    {
      "cell_type": "markdown",
      "metadata": {
        "id": "5f5qHHQTT27w",
        "colab_type": "text"
      },
      "source": [
        "### **Part 1:** P(T<T0) with t-score and degree of freedom as input"
      ]
    },
    {
      "cell_type": "code",
      "metadata": {
        "id": "MqtQBj_6stDV",
        "colab_type": "code",
        "outputId": "220d5871-8add-4a7c-a802-42e336fd6a01",
        "colab": {
          "base_uri": "https://localhost:8080/",
          "height": 90
        }
      },
      "source": [
        "# Importing library\n",
        "import scipy.stats as stats\n",
        "\n",
        "# Input t-Score and degree of freedom\n",
        "T0 = float(input(\"Enter t-Score \"))\n",
        "df = float(input(\"Enter degree of freedom \"))\n",
        "\n",
        "# Calculating the probability P(T<T0)\n",
        "prob=stats.t.cdf(T0,df)\n",
        "print('Probability of T<T0 is {:.6f}'.format(prob))"
      ],
      "execution_count": 0,
      "outputs": [
        {
          "output_type": "stream",
          "text": [
            "Enter t-Score 3.2\n",
            "Enter degree of freedom3\n",
            "Probability of T<T0 is 0.975334\n"
          ],
          "name": "stdout"
        }
      ]
    },
    {
      "cell_type": "markdown",
      "metadata": {
        "id": "x5e5A9-jJBcN",
        "colab_type": "text"
      },
      "source": [
        "\n",
        "\n",
        "### **Part 2:** Finding t-Score T0 s.t. P(T<T0)= alpha where alpha is given by the user.Degree of freedom is also taken as input\n",
        "\n"
      ]
    },
    {
      "cell_type": "code",
      "metadata": {
        "id": "-SXn7x9MxlBN",
        "colab_type": "code",
        "outputId": "181a6fc5-ba75-4897-f923-4b7e0b40ef28",
        "colab": {
          "base_uri": "https://localhost:8080/",
          "height": 90
        }
      },
      "source": [
        "# importing library\n",
        "import scipy.stats as stats\n",
        "\n",
        "# Input alpha value and degree of freedom\n",
        "alpha = float(input(\"Enter alpha \"))\n",
        "df = float(input(\"Enter degree of freedom \"))\n",
        "\n",
        "# Calculating t-Score T0\n",
        "T0 = stats.t.ppf(alpha,df)\n",
        "print('t-Score is T0 = {:.6f}'.format(T0))"
      ],
      "execution_count": 0,
      "outputs": [
        {
          "output_type": "stream",
          "text": [
            "Enter alpha 0.975334\n",
            "Enter degree of freedom 3\n",
            "T-Score is T0 = 3.199996\n"
          ],
          "name": "stdout"
        }
      ]
    },
    {
      "cell_type": "markdown",
      "metadata": {
        "id": "TVTvgnalzDQG",
        "colab_type": "text"
      },
      "source": [
        "## **Calculations for Chi-Square Distribution**"
      ]
    },
    {
      "cell_type": "markdown",
      "metadata": {
        "id": "ULrzG39TKg-J",
        "colab_type": "text"
      },
      "source": [
        "\n",
        "\n",
        "### **Part 1:** P( X^2 <CV) where CV is Chi-square critical value is taken as input.  Degree of freedom is also taken as input\n",
        "\n"
      ]
    },
    {
      "cell_type": "code",
      "metadata": {
        "id": "AqPYHQf7za4B",
        "colab_type": "code",
        "outputId": "12571acf-0c54-4244-f2e4-7e844017e2a8",
        "colab": {
          "base_uri": "https://localhost:8080/",
          "height": 90
        }
      },
      "source": [
        "# Importing library\n",
        "import scipy.stats as stats\n",
        "\n",
        "# Input Chi-Square critical value and degree of freedom\n",
        "CV = float(input(\"Enter Chi-Square Critical Value \"))\n",
        "df_chi = float(input(\"Enter degree of freedom \"))\n",
        "\n",
        "# Calculating the probability P(X^2 < CV)\n",
        "prob=stats.chi2.cdf(CV,df_chi)\n",
        "print('Probability of X^2 < CV is {:.6f}'.format(prob))"
      ],
      "execution_count": 0,
      "outputs": [
        {
          "output_type": "stream",
          "text": [
            "Enter Chi-Square Critical Value 13\n",
            "Enter degree of freedom 3\n",
            "Probability of X^2 < CV is 0.995363\n"
          ],
          "name": "stdout"
        }
      ]
    },
    {
      "cell_type": "markdown",
      "metadata": {
        "id": "dWnc8ySDSnoa",
        "colab_type": "text"
      },
      "source": [
        "### **Part 2:** Finding Chi-Square critical value CV s.t. P(X^2 < CV)= alpha where alpha is given by the user. Degree of freedom is also taken as input\n",
        "\n"
      ]
    },
    {
      "cell_type": "code",
      "metadata": {
        "id": "tA47T1Ui0mQW",
        "colab_type": "code",
        "outputId": "d077f825-27e1-4310-f036-84f4c79e5f23",
        "colab": {
          "base_uri": "https://localhost:8080/",
          "height": 90
        }
      },
      "source": [
        "# importing library\n",
        "import scipy.stats as stats\n",
        "\n",
        "# Input alpha value and degree of freedom\n",
        "alpha_chi2 = float(input(\"Enter alpha \"))\n",
        "df_chi2 = float(input(\"Enter degree of freedom \"))\n",
        "\n",
        "# Calculating Chi-square critical value CV\n",
        "CV = stats.chi2.ppf(alpha_chi2,df_chi2)\n",
        "print('Chi-square critical value CV = {:.6f}'.format(CV))"
      ],
      "execution_count": 0,
      "outputs": [
        {
          "output_type": "stream",
          "text": [
            "Enter alpha 0.995363\n",
            "Enter degree of freedom 3\n",
            "Chi-square critical value CV = 12.999818\n"
          ],
          "name": "stdout"
        }
      ]
    },
    {
      "cell_type": "markdown",
      "metadata": {
        "id": "S5dbQZhb0_OD",
        "colab_type": "text"
      },
      "source": [
        "## **Calculations for F Distribution**"
      ]
    },
    {
      "cell_type": "markdown",
      "metadata": {
        "id": "UIx4ojroUPlr",
        "colab_type": "text"
      },
      "source": [
        "### **Part 1:** P(F<F0) with f-value F0 and degree of freedoms as input"
      ]
    },
    {
      "cell_type": "code",
      "metadata": {
        "id": "SDsOq6PS1BJw",
        "colab_type": "code",
        "outputId": "fc6776d1-de83-4d3b-e92f-0710a78e3d6b",
        "colab": {
          "base_uri": "https://localhost:8080/",
          "height": 108
        }
      },
      "source": [
        "# Importing library\n",
        "import scipy.stats as stats\n",
        "\n",
        "# Input f-value and degree of freedoms\n",
        "F0 = float(input(\"Enter f-value \"))\n",
        "df1 = float(input(\"Enter degree of freedom v1 \"))\n",
        "df2 = float(input(\"Enter degree of freedom v2 \"))\n",
        "\n",
        "# Calculating the probability P(F<F0)\n",
        "prob=stats.f.cdf(F0,df1,df2)\n",
        "print('Probability of F<F0 is {:.6f}'.format(prob))"
      ],
      "execution_count": 0,
      "outputs": [
        {
          "output_type": "stream",
          "text": [
            "Enter f-value 13\n",
            "Enter degree of freedom v1 3\n",
            "Enter degree of freedom v2 3\n",
            "Probability of F<F0 is 0.968295\n"
          ],
          "name": "stdout"
        }
      ]
    },
    {
      "cell_type": "markdown",
      "metadata": {
        "id": "2cUmyEx6PGp2",
        "colab_type": "text"
      },
      "source": [
        "### **Part 2:** Finding f-value F0 s.t. P(F<F0)= alpha where alpha is given by the user. Degree of freedoms are also taken as input\n",
        "\n"
      ]
    },
    {
      "cell_type": "code",
      "metadata": {
        "id": "2pPMfUK8PN2D",
        "colab_type": "code",
        "outputId": "2dbcb399-b278-40d1-a4b7-f0f0cb777ea2",
        "colab": {
          "base_uri": "https://localhost:8080/",
          "height": 108
        }
      },
      "source": [
        "# importing library\n",
        "import scipy.stats as stats\n",
        "\n",
        "# Input alpha value and degree of freedoms\n",
        "alpha = float(input(\"Enter alpha \"))\n",
        "df1 = float(input(\"Enter degree of freedom v1 \"))\n",
        "df2 = float(input(\"Enter degree of freedom v2 \"))\n",
        "\n",
        "# Calculating f-value F0\n",
        "F0 = stats.f.ppf(alpha,df1,df2)\n",
        "print('f-Score is F0 = {:.6f}'.format(F0))"
      ],
      "execution_count": 0,
      "outputs": [
        {
          "output_type": "stream",
          "text": [
            "Enter alpha 0.97\n",
            "Enter degree of freedom v1 3\n",
            "Enter degree of freedom v2 3\n",
            "f-Score is F0 = 13.533458\n"
          ],
          "name": "stdout"
        }
      ]
    }
  ]
}